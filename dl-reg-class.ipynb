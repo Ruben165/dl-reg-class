{
  "cells": [
    {
      "cell_type": "markdown",
      "metadata": {
        "id": "oeZsv40e_xbS"
      },
      "source": [
        "Stock Closing Price Prediction <br> Sentiment Analysis and Classification with ERNIE Pre-Trained Model<br>\n",
        "By: Lie Reubensto"
      ]
    },
    {
      "cell_type": "markdown",
      "metadata": {},
      "source": [
        "# Stock Closing Price Prediction"
      ]
    },
    {
      "cell_type": "code",
      "execution_count": 1,
      "metadata": {
        "colab": {
          "base_uri": "https://localhost:8080/"
        },
        "id": "Ml8qjK61NyHL",
        "outputId": "95d2468e-4f48-410c-fd78-ae7d65ce54df"
      },
      "outputs": [],
      "source": [
        "# Install Requirements (You don't have to run this if you already have these modules installed)\n",
        "# !pip install keras-self-attention\n",
        "# !pip install transformers"
      ]
    },
    {
      "cell_type": "code",
      "execution_count": 1,
      "metadata": {
        "id": "K9RBJWugiyNN"
      },
      "outputs": [
        {
          "name": "stderr",
          "output_type": "stream",
          "text": [
            "c:\\Users\\Ruben\\anaconda3\\lib\\site-packages\\transformers\\utils\\generic.py:482: FutureWarning: `torch.utils._pytree._register_pytree_node` is deprecated. Please use `torch.utils._pytree.register_pytree_node` instead.\n",
            "  _torch_pytree._register_pytree_node(\n",
            "c:\\Users\\Ruben\\anaconda3\\lib\\site-packages\\transformers\\utils\\generic.py:339: FutureWarning: `torch.utils._pytree._register_pytree_node` is deprecated. Please use `torch.utils._pytree.register_pytree_node` instead.\n",
            "  _torch_pytree._register_pytree_node(\n"
          ]
        }
      ],
      "source": [
        "# Import Libraries\n",
        "import numpy as np\n",
        "import pandas as pd\n",
        "import matplotlib.pyplot as plt\n",
        "import re\n",
        "from sklearn.model_selection import train_test_split\n",
        "from sklearn.preprocessing import LabelEncoder, MinMaxScaler\n",
        "from sklearn.metrics import accuracy_score, precision_recall_fscore_support\n",
        "from tensorflow.keras.models import Sequential\n",
        "from tensorflow.keras.layers import Bidirectional, LSTM, Dense, Flatten\n",
        "from keras_self_attention import SeqSelfAttention\n",
        "from transformers import AutoTokenizer, AutoModel\n",
        "\n",
        "import torch\n",
        "import torch.nn as nn\n",
        "import torch.optim as optim\n",
        "from torch.utils.data import TensorDataset, DataLoader"
      ]
    },
    {
      "cell_type": "code",
      "execution_count": 2,
      "metadata": {
        "id": "nzo-D_0CIimA"
      },
      "outputs": [],
      "source": [
        "# Load Data\n",
        "path = \"./X.csv\"\n",
        "data = pd.read_csv(path)"
      ]
    },
    {
      "cell_type": "code",
      "execution_count": 3,
      "metadata": {},
      "outputs": [
        {
          "data": {
            "text/html": [
              "<div>\n",
              "<style scoped>\n",
              "    .dataframe tbody tr th:only-of-type {\n",
              "        vertical-align: middle;\n",
              "    }\n",
              "\n",
              "    .dataframe tbody tr th {\n",
              "        vertical-align: top;\n",
              "    }\n",
              "\n",
              "    .dataframe thead th {\n",
              "        text-align: right;\n",
              "    }\n",
              "</style>\n",
              "<table border=\"1\" class=\"dataframe\">\n",
              "  <thead>\n",
              "    <tr style=\"text-align: right;\">\n",
              "      <th></th>\n",
              "      <th>Date</th>\n",
              "      <th>Open</th>\n",
              "      <th>High</th>\n",
              "      <th>Low</th>\n",
              "      <th>Close</th>\n",
              "      <th>Adj Close</th>\n",
              "      <th>Volume</th>\n",
              "    </tr>\n",
              "  </thead>\n",
              "  <tbody>\n",
              "    <tr>\n",
              "      <th>0</th>\n",
              "      <td>2005-09-29</td>\n",
              "      <td>432.588074</td>\n",
              "      <td>436.787964</td>\n",
              "      <td>407.388763</td>\n",
              "      <td>432.588074</td>\n",
              "      <td>304.904572</td>\n",
              "      <td>76180670.0</td>\n",
              "    </tr>\n",
              "    <tr>\n",
              "      <th>1</th>\n",
              "      <td>2005-09-30</td>\n",
              "      <td>457.787384</td>\n",
              "      <td>457.787384</td>\n",
              "      <td>432.588074</td>\n",
              "      <td>457.787384</td>\n",
              "      <td>322.666016</td>\n",
              "      <td>105493978.0</td>\n",
              "    </tr>\n",
              "    <tr>\n",
              "      <th>2</th>\n",
              "      <td>2005-10-03</td>\n",
              "      <td>470.387024</td>\n",
              "      <td>474.586914</td>\n",
              "      <td>440.987854</td>\n",
              "      <td>470.387024</td>\n",
              "      <td>331.546692</td>\n",
              "      <td>59712955.0</td>\n",
              "    </tr>\n",
              "    <tr>\n",
              "      <th>3</th>\n",
              "      <td>2005-10-04</td>\n",
              "      <td>474.586914</td>\n",
              "      <td>482.986694</td>\n",
              "      <td>466.187164</td>\n",
              "      <td>474.586914</td>\n",
              "      <td>334.506927</td>\n",
              "      <td>56236668.0</td>\n",
              "    </tr>\n",
              "    <tr>\n",
              "      <th>4</th>\n",
              "      <td>2005-10-05</td>\n",
              "      <td>482.986694</td>\n",
              "      <td>482.986694</td>\n",
              "      <td>466.187164</td>\n",
              "      <td>482.986694</td>\n",
              "      <td>340.427429</td>\n",
              "      <td>31319315.0</td>\n",
              "    </tr>\n",
              "  </tbody>\n",
              "</table>\n",
              "</div>"
            ],
            "text/plain": [
              "         Date        Open        High         Low       Close   Adj Close  \\\n",
              "0  2005-09-29  432.588074  436.787964  407.388763  432.588074  304.904572   \n",
              "1  2005-09-30  457.787384  457.787384  432.588074  457.787384  322.666016   \n",
              "2  2005-10-03  470.387024  474.586914  440.987854  470.387024  331.546692   \n",
              "3  2005-10-04  474.586914  482.986694  466.187164  474.586914  334.506927   \n",
              "4  2005-10-05  482.986694  482.986694  466.187164  482.986694  340.427429   \n",
              "\n",
              "        Volume  \n",
              "0   76180670.0  \n",
              "1  105493978.0  \n",
              "2   59712955.0  \n",
              "3   56236668.0  \n",
              "4   31319315.0  "
            ]
          },
          "execution_count": 3,
          "metadata": {},
          "output_type": "execute_result"
        }
      ],
      "source": [
        "# See first five rows of data\n",
        "data.head()"
      ]
    },
    {
      "cell_type": "code",
      "execution_count": 4,
      "metadata": {
        "id": "fLrmFDv94cYb"
      },
      "outputs": [],
      "source": [
        "# Since we're focusing solely on closing price, we're gonna use only two relevat columns\n",
        "data = data[['Date', 'Close']]"
      ]
    },
    {
      "cell_type": "code",
      "execution_count": 5,
      "metadata": {
        "colab": {
          "base_uri": "https://localhost:8080/",
          "height": 206
        },
        "id": "PTUFqjePJPWv",
        "outputId": "0e7d8151-9266-49d8-c28e-4f28dd8c5c8c"
      },
      "outputs": [
        {
          "data": {
            "text/html": [
              "<div>\n",
              "<style scoped>\n",
              "    .dataframe tbody tr th:only-of-type {\n",
              "        vertical-align: middle;\n",
              "    }\n",
              "\n",
              "    .dataframe tbody tr th {\n",
              "        vertical-align: top;\n",
              "    }\n",
              "\n",
              "    .dataframe thead th {\n",
              "        text-align: right;\n",
              "    }\n",
              "</style>\n",
              "<table border=\"1\" class=\"dataframe\">\n",
              "  <thead>\n",
              "    <tr style=\"text-align: right;\">\n",
              "      <th></th>\n",
              "      <th>Date</th>\n",
              "      <th>Close</th>\n",
              "    </tr>\n",
              "  </thead>\n",
              "  <tbody>\n",
              "    <tr>\n",
              "      <th>0</th>\n",
              "      <td>2005-09-29</td>\n",
              "      <td>432.588074</td>\n",
              "    </tr>\n",
              "    <tr>\n",
              "      <th>1</th>\n",
              "      <td>2005-09-30</td>\n",
              "      <td>457.787384</td>\n",
              "    </tr>\n",
              "    <tr>\n",
              "      <th>2</th>\n",
              "      <td>2005-10-03</td>\n",
              "      <td>470.387024</td>\n",
              "    </tr>\n",
              "    <tr>\n",
              "      <th>3</th>\n",
              "      <td>2005-10-04</td>\n",
              "      <td>474.586914</td>\n",
              "    </tr>\n",
              "    <tr>\n",
              "      <th>4</th>\n",
              "      <td>2005-10-05</td>\n",
              "      <td>482.986694</td>\n",
              "    </tr>\n",
              "  </tbody>\n",
              "</table>\n",
              "</div>"
            ],
            "text/plain": [
              "         Date       Close\n",
              "0  2005-09-29  432.588074\n",
              "1  2005-09-30  457.787384\n",
              "2  2005-10-03  470.387024\n",
              "3  2005-10-04  474.586914\n",
              "4  2005-10-05  482.986694"
            ]
          },
          "execution_count": 5,
          "metadata": {},
          "output_type": "execute_result"
        }
      ],
      "source": [
        "# See new data\n",
        "data.head()"
      ]
    },
    {
      "cell_type": "code",
      "execution_count": 6,
      "metadata": {
        "colab": {
          "base_uri": "https://localhost:8080/"
        },
        "id": "Kg1wuksIJ7dr",
        "outputId": "f397b9fa-8dac-4336-97fa-9f56ca8484f3"
      },
      "outputs": [
        {
          "name": "stdout",
          "output_type": "stream",
          "text": [
            "<class 'pandas.core.frame.DataFrame'>\n",
            "RangeIndex: 3808 entries, 0 to 3807\n",
            "Data columns (total 2 columns):\n",
            " #   Column  Non-Null Count  Dtype  \n",
            "---  ------  --------------  -----  \n",
            " 0   Date    3808 non-null   object \n",
            " 1   Close   3807 non-null   float64\n",
            "dtypes: float64(1), object(1)\n",
            "memory usage: 59.6+ KB\n"
          ]
        }
      ],
      "source": [
        "# See Data information\n",
        "data.info()"
      ]
    },
    {
      "cell_type": "code",
      "execution_count": 7,
      "metadata": {
        "colab": {
          "base_uri": "https://localhost:8080/"
        },
        "id": "SSEmBuZfMccJ",
        "outputId": "ef709524-628e-478e-c164-614850e94453"
      },
      "outputs": [
        {
          "data": {
            "text/plain": [
              "Date     0\n",
              "Close    1\n",
              "dtype: int64"
            ]
          },
          "execution_count": 7,
          "metadata": {},
          "output_type": "execute_result"
        }
      ],
      "source": [
        "# Check missing value on data\n",
        "data.isnull().sum()"
      ]
    },
    {
      "cell_type": "code",
      "execution_count": 8,
      "metadata": {
        "id": "3U5ET3FCC9KJ"
      },
      "outputs": [],
      "source": [
        "# Drop row with missing value\n",
        "data.dropna(inplace=True)"
      ]
    },
    {
      "cell_type": "code",
      "execution_count": 9,
      "metadata": {
        "colab": {
          "base_uri": "https://localhost:8080/"
        },
        "id": "WnN_dpNthSAq",
        "outputId": "0c324cc5-7872-47bf-b122-ec49c6727d3b"
      },
      "outputs": [
        {
          "data": {
            "text/plain": [
              "Date     0\n",
              "Close    0\n",
              "dtype: int64"
            ]
          },
          "execution_count": 9,
          "metadata": {},
          "output_type": "execute_result"
        }
      ],
      "source": [
        "# Check missing value on data again (should be no more missing value)\n",
        "data.isnull().sum()"
      ]
    },
    {
      "cell_type": "code",
      "execution_count": 10,
      "metadata": {
        "colab": {
          "base_uri": "https://localhost:8080/",
          "height": 300
        },
        "id": "eQGasjZ3Mq3P",
        "outputId": "0d10b466-b4f5-4b15-db41-d496e00e4b86"
      },
      "outputs": [
        {
          "data": {
            "text/html": [
              "<div>\n",
              "<style scoped>\n",
              "    .dataframe tbody tr th:only-of-type {\n",
              "        vertical-align: middle;\n",
              "    }\n",
              "\n",
              "    .dataframe tbody tr th {\n",
              "        vertical-align: top;\n",
              "    }\n",
              "\n",
              "    .dataframe thead th {\n",
              "        text-align: right;\n",
              "    }\n",
              "</style>\n",
              "<table border=\"1\" class=\"dataframe\">\n",
              "  <thead>\n",
              "    <tr style=\"text-align: right;\">\n",
              "      <th></th>\n",
              "      <th>Close</th>\n",
              "    </tr>\n",
              "  </thead>\n",
              "  <tbody>\n",
              "    <tr>\n",
              "      <th>count</th>\n",
              "      <td>3807.000000</td>\n",
              "    </tr>\n",
              "    <tr>\n",
              "      <th>mean</th>\n",
              "      <td>1207.159945</td>\n",
              "    </tr>\n",
              "    <tr>\n",
              "      <th>std</th>\n",
              "      <td>665.202070</td>\n",
              "    </tr>\n",
              "    <tr>\n",
              "      <th>min</th>\n",
              "      <td>287.000000</td>\n",
              "    </tr>\n",
              "    <tr>\n",
              "      <th>25%</th>\n",
              "      <td>765.000000</td>\n",
              "    </tr>\n",
              "    <tr>\n",
              "      <th>50%</th>\n",
              "      <td>957.573608</td>\n",
              "    </tr>\n",
              "    <tr>\n",
              "      <th>75%</th>\n",
              "      <td>1595.956055</td>\n",
              "    </tr>\n",
              "    <tr>\n",
              "      <th>max</th>\n",
              "      <td>4241.883301</td>\n",
              "    </tr>\n",
              "  </tbody>\n",
              "</table>\n",
              "</div>"
            ],
            "text/plain": [
              "             Close\n",
              "count  3807.000000\n",
              "mean   1207.159945\n",
              "std     665.202070\n",
              "min     287.000000\n",
              "25%     765.000000\n",
              "50%     957.573608\n",
              "75%    1595.956055\n",
              "max    4241.883301"
            ]
          },
          "execution_count": 10,
          "metadata": {},
          "output_type": "execute_result"
        }
      ],
      "source": [
        "# See descripive statistics of 'close' column\n",
        "data.describe()"
      ]
    },
    {
      "cell_type": "code",
      "execution_count": 11,
      "metadata": {
        "colab": {
          "base_uri": "https://localhost:8080/"
        },
        "id": "Di-YMbYzN38a",
        "outputId": "b1a13334-0066-47e1-e867-fa5472641716"
      },
      "outputs": [
        {
          "data": {
            "text/plain": [
              "Date     3807\n",
              "Close     648\n",
              "dtype: int64"
            ]
          },
          "execution_count": 11,
          "metadata": {},
          "output_type": "execute_result"
        }
      ],
      "source": [
        "# See how many unique elements per column\n",
        "data.nunique()"
      ]
    },
    {
      "cell_type": "code",
      "execution_count": 12,
      "metadata": {
        "colab": {
          "base_uri": "https://localhost:8080/",
          "height": 563
        },
        "id": "mQH5j8ULhIkY",
        "outputId": "c8b7b103-c4ec-4a74-c767-16c8bea8a617"
      },
      "outputs": [
        {
          "data": {
            "image/png": "[encoded data removed]",
            "text/plain": [
              "<Figure size 500x300 with 1 Axes>"
            ]
          },
          "metadata": {},
          "output_type": "display_data"
        }
      ],
      "source": [
        "# Plot histogram of 'close' column\n",
        "data.hist(figsize=(5, 3))\n",
        "plt.show()"
      ]
    },
    {
      "cell_type": "code",
      "execution_count": 13,
      "metadata": {
        "id": "UN21UJCSijhE"
      },
      "outputs": [
        {
          "name": "stderr",
          "output_type": "stream",
          "text": [
            "C:\\Users\\Ruben\\AppData\\Local\\Temp\\ipykernel_55192\\2861358268.py:2: UserWarning: The argument 'infer_datetime_format' is deprecated and will be removed in a future version. A strict version of it is now the default, see https://pandas.pydata.org/pdeps/0004-consistent-to-datetime-parsing.html. You can safely remove this argument.\n",
            "  data['Date'] = pd.to_datetime(data['Date'], infer_datetime_format=True)\n"
          ]
        }
      ],
      "source": [
        "# Ensure 'Date' column is in datetime format\n",
        "data['Date'] = pd.to_datetime(data['Date'], infer_datetime_format=True)\n",
        "\n",
        "# Sort the dataset by date\n",
        "data.sort_values(by='Date', inplace=True)"
      ]
    },
    {
      "cell_type": "code",
      "execution_count": 14,
      "metadata": {
        "colab": {
          "base_uri": "https://localhost:8080/",
          "height": 564
        },
        "id": "m9gyc_bIuFXs",
        "outputId": "c7ace5d3-8070-4d4e-d3e9-40a77c3d3122"
      },
      "outputs": [
        {
          "data": {
            "image/png": "[encoded data removed]",
            "text/plain": [
              "<Figure size 900x600 with 1 Axes>"
            ]
          },
          "metadata": {},
          "output_type": "display_data"
        }
      ],
      "source": [
        "# Plot Closing Price over time\n",
        "plt.figure(figsize=(9, 6))\n",
        "plt.plot(data['Date'], data['Close'])\n",
        "plt.title('Stock Performance (Closing Price) Over Time')\n",
        "plt.xlabel('Date')\n",
        "plt.ylabel('Close Price')\n",
        "plt.show()"
      ]
    },
    {
      "cell_type": "code",
      "execution_count": 15,
      "metadata": {
        "colab": {
          "base_uri": "https://localhost:8080/"
        },
        "id": "c0y4l-xM6mFN",
        "outputId": "cbc09a11-8335-466f-b113-0ccfc8081f76"
      },
      "outputs": [
        {
          "data": {
            "text/html": [
              "<div>\n",
              "<style scoped>\n",
              "    .dataframe tbody tr th:only-of-type {\n",
              "        vertical-align: middle;\n",
              "    }\n",
              "\n",
              "    .dataframe tbody tr th {\n",
              "        vertical-align: top;\n",
              "    }\n",
              "\n",
              "    .dataframe thead th {\n",
              "        text-align: right;\n",
              "    }\n",
              "</style>\n",
              "<table border=\"1\" class=\"dataframe\">\n",
              "  <thead>\n",
              "    <tr style=\"text-align: right;\">\n",
              "      <th></th>\n",
              "      <th>Date</th>\n",
              "      <th>Close</th>\n",
              "    </tr>\n",
              "  </thead>\n",
              "  <tbody>\n",
              "    <tr>\n",
              "      <th>0</th>\n",
              "      <td>2005-09-29</td>\n",
              "      <td>0.036812</td>\n",
              "    </tr>\n",
              "    <tr>\n",
              "      <th>1</th>\n",
              "      <td>2005-09-30</td>\n",
              "      <td>0.043184</td>\n",
              "    </tr>\n",
              "    <tr>\n",
              "      <th>2</th>\n",
              "      <td>2005-10-03</td>\n",
              "      <td>0.046370</td>\n",
              "    </tr>\n",
              "    <tr>\n",
              "      <th>3</th>\n",
              "      <td>2005-10-04</td>\n",
              "      <td>0.047432</td>\n",
              "    </tr>\n",
              "    <tr>\n",
              "      <th>4</th>\n",
              "      <td>2005-10-05</td>\n",
              "      <td>0.049556</td>\n",
              "    </tr>\n",
              "    <tr>\n",
              "      <th>...</th>\n",
              "      <td>...</td>\n",
              "      <td>...</td>\n",
              "    </tr>\n",
              "    <tr>\n",
              "      <th>3803</th>\n",
              "      <td>2021-01-28</td>\n",
              "      <td>0.529219</td>\n",
              "    </tr>\n",
              "    <tr>\n",
              "      <th>3804</th>\n",
              "      <td>2021-01-29</td>\n",
              "      <td>0.488763</td>\n",
              "    </tr>\n",
              "    <tr>\n",
              "      <th>3805</th>\n",
              "      <td>2021-02-01</td>\n",
              "      <td>0.584847</td>\n",
              "    </tr>\n",
              "    <tr>\n",
              "      <th>3806</th>\n",
              "      <td>2021-02-02</td>\n",
              "      <td>0.539333</td>\n",
              "    </tr>\n",
              "    <tr>\n",
              "      <th>3807</th>\n",
              "      <td>2021-02-03</td>\n",
              "      <td>0.516577</td>\n",
              "    </tr>\n",
              "  </tbody>\n",
              "</table>\n",
              "<p>3807 rows × 2 columns</p>\n",
              "</div>"
            ],
            "text/plain": [
              "           Date     Close\n",
              "0    2005-09-29  0.036812\n",
              "1    2005-09-30  0.043184\n",
              "2    2005-10-03  0.046370\n",
              "3    2005-10-04  0.047432\n",
              "4    2005-10-05  0.049556\n",
              "...         ...       ...\n",
              "3803 2021-01-28  0.529219\n",
              "3804 2021-01-29  0.488763\n",
              "3805 2021-02-01  0.584847\n",
              "3806 2021-02-02  0.539333\n",
              "3807 2021-02-03  0.516577\n",
              "\n",
              "[3807 rows x 2 columns]"
            ]
          },
          "execution_count": 15,
          "metadata": {},
          "output_type": "execute_result"
        }
      ],
      "source": [
        "# Scale the 'close' data\n",
        "scaler = MinMaxScaler()\n",
        "data['Close'] = scaler.fit_transform(data['Close'].values.reshape(-1,1))\n",
        "data"
      ]
    },
    {
      "cell_type": "code",
      "execution_count": 16,
      "metadata": {
        "id": "0GOJZYVfuUNi"
      },
      "outputs": [],
      "source": [
        "# Create input and output segments\n",
        "window_size = 5\n",
        "horizon = 1\n",
        "inputs = []\n",
        "outputs = []\n",
        "\n",
        "for i in range(len(data) - window_size - horizon + 1):\n",
        "    input = data['Close'].iloc[i:i+window_size].values\n",
        "    output = data['Close'].iloc[i+window_size:i+window_size+horizon].values\n",
        "    inputs.append(input)\n",
        "    outputs.append(output)"
      ]
    },
    {
      "cell_type": "code",
      "execution_count": 17,
      "metadata": {
        "id": "J9i3WXDqEf8n"
      },
      "outputs": [],
      "source": [
        "# Convert inputs and outputs to numpy array\n",
        "inputs = np.array(inputs)\n",
        "outputs = np.array(outputs)"
      ]
    },
    {
      "cell_type": "code",
      "execution_count": 18,
      "metadata": {
        "colab": {
          "base_uri": "https://localhost:8080/"
        },
        "id": "N_bLTmo5uYB4",
        "outputId": "3a89e262-2c13-4307-991e-2feb9bc34651"
      },
      "outputs": [
        {
          "name": "stdout",
          "output_type": "stream",
          "text": [
            "3041 3041 380 380 381 381\n"
          ]
        }
      ],
      "source": [
        "# Splitting Data\n",
        "x_train, x_val, y_train, y_val = train_test_split(inputs, outputs, test_size=0.2, shuffle=False)\n",
        "x_val, x_test, y_val, y_test = train_test_split(x_val, y_val, test_size=0.5, shuffle=False)\n",
        "print(len(x_train), len(y_train), len(x_val), len(y_val), len(x_test), len(y_test))"
      ]
    },
    {
      "cell_type": "code",
      "execution_count": 19,
      "metadata": {
        "id": "nNWJk3fLEM4a"
      },
      "outputs": [],
      "source": [
        "# Reshape inputs (size, window_size, features)\n",
        "x_train = x_train.reshape((x_train.shape[0], window_size, 1))\n",
        "x_val = x_val.reshape((x_val.shape[0], window_size, 1))\n",
        "x_test = x_test.reshape((x_test.shape[0], window_size, 1))"
      ]
    },
    {
      "cell_type": "code",
      "execution_count": 20,
      "metadata": {
        "id": "pHl_CxkzN1-P"
      },
      "outputs": [],
      "source": [
        "# Create Model\n",
        "model1 = Sequential()\n",
        "model1.add(Bidirectional(LSTM(100, input_shape=(window_size, 1), return_sequences=True)))\n",
        "model1.add(SeqSelfAttention(attention_activation='sigmoid'))\n",
        "model1.add(Flatten())\n",
        "model1.add(Dense(units=horizon))"
      ]
    },
    {
      "cell_type": "code",
      "execution_count": 21,
      "metadata": {
        "id": "EDmWZflmN7Co"
      },
      "outputs": [],
      "source": [
        "# Compile Model\n",
        "model1.compile(optimizer='adam', loss='mse', metrics=['mae'])"
      ]
    },
    {
      "cell_type": "code",
      "execution_count": 22,
      "metadata": {
        "colab": {
          "base_uri": "https://localhost:8080/"
        },
        "id": "CfrDIu4CN9Xe",
        "outputId": "a3b81e26-b8d8-4d72-dc94-5ebb67c69030"
      },
      "outputs": [
        {
          "name": "stdout",
          "output_type": "stream",
          "text": [
            "Epoch 1/10\n"
          ]
        },
        {
          "name": "stderr",
          "output_type": "stream",
          "text": [
            "c:\\Users\\Ruben\\anaconda3\\lib\\site-packages\\keras\\src\\initializers\\initializers.py:120: UserWarning: The initializer GlorotNormal is unseeded and being called multiple times, which will return identical values each time (even if the initializer is unseeded). Please update your code to provide a seed to the initializer, or avoid using the same initializer instance more than once.\n",
            "  warnings.warn(\n"
          ]
        },
        {
          "name": "stdout",
          "output_type": "stream",
          "text": [
            "127/127 - 6s - loss: 0.0038 - mae: 0.0285 - val_loss: 7.8644e-05 - val_mae: 0.0072 - 6s/epoch - 44ms/step\n",
            "Epoch 2/10\n",
            "127/127 - 1s - loss: 3.3049e-04 - mae: 0.0108 - val_loss: 8.0997e-05 - val_mae: 0.0073 - 631ms/epoch - 5ms/step\n",
            "Epoch 3/10\n",
            "127/127 - 1s - loss: 3.3847e-04 - mae: 0.0113 - val_loss: 8.5586e-05 - val_mae: 0.0072 - 628ms/epoch - 5ms/step\n",
            "Epoch 4/10\n",
            "127/127 - 1s - loss: 3.0535e-04 - mae: 0.0105 - val_loss: 8.1598e-05 - val_mae: 0.0070 - 635ms/epoch - 5ms/step\n",
            "Epoch 5/10\n",
            "127/127 - 1s - loss: 3.1124e-04 - mae: 0.0107 - val_loss: 5.5260e-05 - val_mae: 0.0057 - 631ms/epoch - 5ms/step\n",
            "Epoch 6/10\n",
            "127/127 - 1s - loss: 3.0332e-04 - mae: 0.0109 - val_loss: 1.0003e-04 - val_mae: 0.0080 - 636ms/epoch - 5ms/step\n",
            "Epoch 7/10\n",
            "127/127 - 1s - loss: 2.8364e-04 - mae: 0.0103 - val_loss: 6.1503e-05 - val_mae: 0.0060 - 628ms/epoch - 5ms/step\n",
            "Epoch 8/10\n",
            "127/127 - 1s - loss: 2.8908e-04 - mae: 0.0107 - val_loss: 5.2952e-05 - val_mae: 0.0055 - 618ms/epoch - 5ms/step\n",
            "Epoch 9/10\n",
            "127/127 - 1s - loss: 2.6141e-04 - mae: 0.0100 - val_loss: 6.0678e-05 - val_mae: 0.0062 - 631ms/epoch - 5ms/step\n",
            "Epoch 10/10\n",
            "127/127 - 1s - loss: 2.6913e-04 - mae: 0.0102 - val_loss: 5.8683e-05 - val_mae: 0.0058 - 636ms/epoch - 5ms/step\n"
          ]
        },
        {
          "data": {
            "text/plain": [
              "<keras.src.callbacks.History at 0x20185f00f40>"
            ]
          },
          "execution_count": 22,
          "metadata": {},
          "output_type": "execute_result"
        }
      ],
      "source": [
        "# Train Model\n",
        "model1.fit(x_train, y_train, epochs=10, batch_size=24, validation_data=(x_val, y_val), verbose=2)"
      ]
    },
    {
      "cell_type": "code",
      "execution_count": 23,
      "metadata": {
        "colab": {
          "base_uri": "https://localhost:8080/"
        },
        "id": "9BAgXczYOA8c",
        "outputId": "4c2cf630-8eb1-4142-b0de-434b1fbb51fb"
      },
      "outputs": [
        {
          "name": "stdout",
          "output_type": "stream",
          "text": [
            "16/16 [==============================] - 0s 2ms/step - loss: 4.5773e-04 - mae: 0.0114\n"
          ]
        },
        {
          "data": {
            "text/plain": [
              "[0.00045772764133289456, 0.011402768082916737]"
            ]
          },
          "execution_count": 23,
          "metadata": {},
          "output_type": "execute_result"
        }
      ],
      "source": [
        "# Model Evaluation\n",
        "model1.evaluate(x_test, y_test, batch_size=24)"
      ]
    },
    {
      "cell_type": "code",
      "execution_count": 24,
      "metadata": {
        "id": "qJgxbeLm5_YB"
      },
      "outputs": [
        {
          "name": "stdout",
          "output_type": "stream",
          "text": [
            "12/12 [==============================] - 1s 3ms/step\n"
          ]
        }
      ],
      "source": [
        "# Inverse transform the predictions and actual values to original scale\n",
        "predictions = model1.predict(x_test)\n",
        "predictions = scaler.inverse_transform(np.reshape(predictions, (predictions.shape[0], horizon)))\n",
        "y_test_original = scaler.inverse_transform(y_test)"
      ]
    },
    {
      "cell_type": "code",
      "execution_count": 30,
      "metadata": {
        "colab": {
          "base_uri": "https://localhost:8080/",
          "height": 564
        },
        "id": "e7bgnxaZONJ5",
        "outputId": "47eee608-09ae-4995-b465-8f9d3cad8946"
      },
      "outputs": [
        {
          "data": {
            "image/png": "[encoded data removed]",
            "text/plain": [
              "<Figure size 900x600 with 1 Axes>"
            ]
          },
          "metadata": {},
          "output_type": "display_data"
        }
      ],
      "source": [
        "# Visualization\n",
        "plt.figure(figsize=(9, 6))\n",
        "plt.plot(y_test_original, label='Actual')\n",
        "plt.plot(predictions, label='Predicted (Self-Attention Model)')\n",
        "plt.title('Stock Closing Price Prediction')\n",
        "plt.xlabel('Time Steps')\n",
        "plt.ylabel('Close Price')\n",
        "plt.legend()\n",
        "plt.grid()\n",
        "plt.show()"
      ]
    },
    {
      "cell_type": "markdown",
      "metadata": {},
      "source": [
        "# Sentiment Analysis and Classification with ERNIE Pre-Trained Model"
      ]
    },
    {
      "cell_type": "code",
      "execution_count": 31,
      "metadata": {
        "id": "Pac7aomn35yx"
      },
      "outputs": [],
      "source": [
        "# Load Data\n",
        "path = \"./Emotion.csv\"\n",
        "data = pd.read_csv(path)"
      ]
    },
    {
      "cell_type": "code",
      "execution_count": 32,
      "metadata": {
        "colab": {
          "base_uri": "https://localhost:8080/",
          "height": 206
        },
        "id": "dtnIhuE-7fg5",
        "outputId": "40eccb8f-7edb-4dd1-a0be-75354f84948a"
      },
      "outputs": [
        {
          "data": {
            "text/html": [
              "<div>\n",
              "<style scoped>\n",
              "    .dataframe tbody tr th:only-of-type {\n",
              "        vertical-align: middle;\n",
              "    }\n",
              "\n",
              "    .dataframe tbody tr th {\n",
              "        vertical-align: top;\n",
              "    }\n",
              "\n",
              "    .dataframe thead th {\n",
              "        text-align: right;\n",
              "    }\n",
              "</style>\n",
              "<table border=\"1\" class=\"dataframe\">\n",
              "  <thead>\n",
              "    <tr style=\"text-align: right;\">\n",
              "      <th></th>\n",
              "      <th>text</th>\n",
              "      <th>label</th>\n",
              "    </tr>\n",
              "  </thead>\n",
              "  <tbody>\n",
              "    <tr>\n",
              "      <th>0</th>\n",
              "      <td>i didnt feel humiliated</td>\n",
              "      <td>sadness</td>\n",
              "    </tr>\n",
              "    <tr>\n",
              "      <th>1</th>\n",
              "      <td>i can go from feeling so hopeless to so damned...</td>\n",
              "      <td>sadness</td>\n",
              "    </tr>\n",
              "    <tr>\n",
              "      <th>2</th>\n",
              "      <td>im grabbing a minute to post i feel greedy wrong</td>\n",
              "      <td>anger</td>\n",
              "    </tr>\n",
              "    <tr>\n",
              "      <th>3</th>\n",
              "      <td>i am ever feeling nostalgic about the fireplac...</td>\n",
              "      <td>love</td>\n",
              "    </tr>\n",
              "    <tr>\n",
              "      <th>4</th>\n",
              "      <td>i am feeling grouchy</td>\n",
              "      <td>anger</td>\n",
              "    </tr>\n",
              "  </tbody>\n",
              "</table>\n",
              "</div>"
            ],
            "text/plain": [
              "                                                text    label\n",
              "0                            i didnt feel humiliated  sadness\n",
              "1  i can go from feeling so hopeless to so damned...  sadness\n",
              "2   im grabbing a minute to post i feel greedy wrong    anger\n",
              "3  i am ever feeling nostalgic about the fireplac...     love\n",
              "4                               i am feeling grouchy    anger"
            ]
          },
          "execution_count": 32,
          "metadata": {},
          "output_type": "execute_result"
        }
      ],
      "source": [
        "# See first five rows of data\n",
        "data.head()"
      ]
    },
    {
      "cell_type": "code",
      "execution_count": 33,
      "metadata": {
        "colab": {
          "base_uri": "https://localhost:8080/"
        },
        "id": "xHdeAZEE7d0t",
        "outputId": "8347f507-8551-4a44-f73b-aa595debd31f"
      },
      "outputs": [
        {
          "name": "stdout",
          "output_type": "stream",
          "text": [
            "<class 'pandas.core.frame.DataFrame'>\n",
            "RangeIndex: 20000 entries, 0 to 19999\n",
            "Data columns (total 2 columns):\n",
            " #   Column  Non-Null Count  Dtype \n",
            "---  ------  --------------  ----- \n",
            " 0   text    20000 non-null  object\n",
            " 1   label   20000 non-null  object\n",
            "dtypes: object(2)\n",
            "memory usage: 312.6+ KB\n"
          ]
        }
      ],
      "source": [
        "# See data information\n",
        "data.info()"
      ]
    },
    {
      "cell_type": "code",
      "execution_count": 34,
      "metadata": {
        "colab": {
          "base_uri": "https://localhost:8080/"
        },
        "id": "asrhFXhQdIvb",
        "outputId": "2a340232-2aae-46cb-8573-5f582edeead9"
      },
      "outputs": [
        {
          "name": "stdout",
          "output_type": "stream",
          "text": [
            "Count of unique elements in Dataset:\n",
            "text     19948\n",
            "label        6\n",
            "dtype: int64\n",
            "\n"
          ]
        }
      ],
      "source": [
        "# See the total of unique elements in each column (you should see six labels, indicating six types of emotions)\n",
        "print(f'Count of unique elements in Dataset:\\n{data.nunique()}\\n')"
      ]
    },
    {
      "cell_type": "code",
      "execution_count": 35,
      "metadata": {
        "colab": {
          "base_uri": "https://localhost:8080/"
        },
        "id": "duDO4ZzFdPRM",
        "outputId": "0f3e7161-b25d-48d0-d31c-2da5f18afbb7"
      },
      "outputs": [
        {
          "data": {
            "text/plain": [
              "text     0\n",
              "label    0\n",
              "dtype: int64"
            ]
          },
          "execution_count": 35,
          "metadata": {},
          "output_type": "execute_result"
        }
      ],
      "source": [
        "# Check missing value from data\n",
        "data.isnull().sum()"
      ]
    },
    {
      "cell_type": "code",
      "execution_count": 36,
      "metadata": {
        "colab": {
          "base_uri": "https://localhost:8080/"
        },
        "id": "-WMzxGTmdXDK",
        "outputId": "b6ed07e1-9674-490e-e30e-cf249e4fa853"
      },
      "outputs": [
        {
          "name": "stdout",
          "output_type": "stream",
          "text": [
            "Duplicated Rows in Dataset: 1\n"
          ]
        }
      ],
      "source": [
        "# See duplicated rows of data\n",
        "print(f\"Duplicated Rows in Dataset: {data.duplicated().sum()}\")"
      ]
    },
    {
      "cell_type": "markdown",
      "metadata": {
        "id": "rzkdfa7vyMc3"
      },
      "source": [
        "There's exist one duplicated row, but it's not going to be treated here (since it's not going to impact the model significantly later)"
      ]
    },
    {
      "cell_type": "code",
      "execution_count": 37,
      "metadata": {
        "colab": {
          "base_uri": "https://localhost:8080/"
        },
        "id": "KnjU9RdddfjP",
        "outputId": "d9ff0db1-435b-4dbb-915d-528824e49cb8"
      },
      "outputs": [
        {
          "name": "stdout",
          "output_type": "stream",
          "text": [
            "sadness Sentiments:\n",
            "text     5797\n",
            "label    5797\n",
            "dtype: int64\n",
            "\n",
            "anger Sentiments:\n",
            "text     2709\n",
            "label    2709\n",
            "dtype: int64\n",
            "\n",
            "love Sentiments:\n",
            "text     1641\n",
            "label    1641\n",
            "dtype: int64\n",
            "\n",
            "surprise Sentiments:\n",
            "text     719\n",
            "label    719\n",
            "dtype: int64\n",
            "\n",
            "fear Sentiments:\n",
            "text     2373\n",
            "label    2373\n",
            "dtype: int64\n",
            "\n",
            "joy Sentiments:\n",
            "text     6761\n",
            "label    6761\n",
            "dtype: int64\n",
            "\n"
          ]
        }
      ],
      "source": [
        "# Apply a bit of text cleansing\n",
        "data['text'].apply(lambda x: str.lower(str(x)))\n",
        "data['text'].apply(lambda x: re.sub('[^a-zA-z0-9\\s]', '', str(x)))\n",
        "\n",
        "# Show how many rows each type of emotion has\n",
        "for label in data['label'].unique():\n",
        "  print(f\"{label} Sentiments:\\n{data[data['label']==label].count()}\\n\")"
      ]
    },
    {
      "cell_type": "code",
      "execution_count": 41,
      "metadata": {
        "id": "w9egaNkw8hor"
      },
      "outputs": [],
      "source": [
        "# Load pre-trained ERNIE model and tokenizer\n",
        "num_classes = len(data['label'].unique())\n",
        "model_name = \"nghuyong/ernie-2.0-base-en\"\n",
        "tokenizer = AutoTokenizer.from_pretrained(model_name)\n",
        "model2 = AutoModel.from_pretrained(model_name)"
      ]
    },
    {
      "cell_type": "code",
      "execution_count": 42,
      "metadata": {
        "id": "HMfA-Z_B6idT"
      },
      "outputs": [],
      "source": [
        "# Convert non-numerical labels to numerical values\n",
        "le = LabelEncoder()\n",
        "numerical_labels = le.fit_transform(data['label'])"
      ]
    },
    {
      "cell_type": "code",
      "execution_count": 43,
      "metadata": {
        "id": "CfQnD7D035Cw"
      },
      "outputs": [],
      "source": [
        "# Tokenize input texts\n",
        "inputs = tokenizer(data['text'].tolist(), return_tensors=\"pt\", padding=True)"
      ]
    },
    {
      "cell_type": "code",
      "execution_count": 44,
      "metadata": {
        "colab": {
          "base_uri": "https://localhost:8080/"
        },
        "id": "Ye2qOfBS4GX0",
        "outputId": "42ce7bad-40fc-4e39-f636-b824f070cbf4"
      },
      "outputs": [
        {
          "name": "stderr",
          "output_type": "stream",
          "text": [
            "C:\\Users\\Ruben\\AppData\\Local\\Temp\\ipykernel_33824\\3499239082.py:8: UserWarning: To copy construct from a tensor, it is recommended to use sourceTensor.clone().detach() or sourceTensor.clone().detach().requires_grad_(True), rather than torch.tensor(sourceTensor).\n",
            "  x_train_ids = torch.tensor(x_train_ids)\n",
            "C:\\Users\\Ruben\\AppData\\Local\\Temp\\ipykernel_33824\\3499239082.py:9: UserWarning: To copy construct from a tensor, it is recommended to use sourceTensor.clone().detach() or sourceTensor.clone().detach().requires_grad_(True), rather than torch.tensor(sourceTensor).\n",
            "  x_train_mask = torch.tensor(x_train_mask)\n",
            "C:\\Users\\Ruben\\AppData\\Local\\Temp\\ipykernel_33824\\3499239082.py:12: UserWarning: To copy construct from a tensor, it is recommended to use sourceTensor.clone().detach() or sourceTensor.clone().detach().requires_grad_(True), rather than torch.tensor(sourceTensor).\n",
            "  x_val_ids = torch.tensor(x_val_ids)\n",
            "C:\\Users\\Ruben\\AppData\\Local\\Temp\\ipykernel_33824\\3499239082.py:13: UserWarning: To copy construct from a tensor, it is recommended to use sourceTensor.clone().detach() or sourceTensor.clone().detach().requires_grad_(True), rather than torch.tensor(sourceTensor).\n",
            "  x_val_mask = torch.tensor(x_val_mask)\n",
            "C:\\Users\\Ruben\\AppData\\Local\\Temp\\ipykernel_33824\\3499239082.py:16: UserWarning: To copy construct from a tensor, it is recommended to use sourceTensor.clone().detach() or sourceTensor.clone().detach().requires_grad_(True), rather than torch.tensor(sourceTensor).\n",
            "  x_test_ids = torch.tensor(x_test_ids)\n",
            "C:\\Users\\Ruben\\AppData\\Local\\Temp\\ipykernel_33824\\3499239082.py:17: UserWarning: To copy construct from a tensor, it is recommended to use sourceTensor.clone().detach() or sourceTensor.clone().detach().requires_grad_(True), rather than torch.tensor(sourceTensor).\n",
            "  x_test_mask = torch.tensor(x_test_mask)\n"
          ]
        }
      ],
      "source": [
        "# Prepare data for model training and testing\n",
        "input_ids = inputs['input_ids']\n",
        "attention_mask = inputs['attention_mask']\n",
        "\n",
        "# Split data into train, val, and test\n",
        "x_train_ids, x_temp_ids, x_train_mask, x_temp_mask, y_train, y_temp = train_test_split(input_ids, attention_mask, numerical_labels, test_size=0.3, random_state=33)\n",
        "x_val_ids, x_test_ids, x_val_mask, x_test_mask, y_val, y_test = train_test_split(x_temp_ids, x_temp_mask, y_temp, test_size=0.5, random_state=33)\n",
        "\n",
        "x_train_ids = torch.tensor(x_train_ids)\n",
        "x_train_mask = torch.tensor(x_train_mask)\n",
        "y_train = torch.tensor(y_train)\n",
        "\n",
        "x_val_ids = torch.tensor(x_val_ids)\n",
        "x_val_mask = torch.tensor(x_val_mask)\n",
        "y_val = torch.tensor(y_val)\n",
        "\n",
        "x_test_ids = torch.tensor(x_test_ids)\n",
        "x_test_mask = torch.tensor(x_test_mask)\n",
        "y_test = torch.tensor(y_test)\n",
        "\n",
        "# Create PyTorch datasets\n",
        "train_dataset = TensorDataset(x_train_ids, x_train_mask, y_train)\n",
        "val_dataset = TensorDataset(x_val_ids, x_val_mask, y_val)\n",
        "test_dataset = TensorDataset(x_test_ids, x_test_mask, y_test)\n",
        "\n",
        "# Create PyTorch DataLoaders\n",
        "batch_size = 32\n",
        "train_dataloader = DataLoader(train_dataset, batch_size=batch_size, shuffle=True)\n",
        "val_dataloader = DataLoader(val_dataset, batch_size=batch_size, shuffle=False)\n",
        "test_dataloader = DataLoader(test_dataset, batch_size=batch_size, shuffle=False)"
      ]
    },
    {
      "cell_type": "code",
      "execution_count": 45,
      "metadata": {
        "id": "VaGKIVMO7xMp"
      },
      "outputs": [],
      "source": [
        "# Create hidden layer for the model\n",
        "hidden_size = model2.config.hidden_size\n",
        "num_classes = len(data['label'].unique())\n",
        "\n",
        "classification_head = nn.Sequential(\n",
        "    nn.Linear(hidden_size, 128),\n",
        "    nn.ReLU(),\n",
        "    nn.Dropout(0.5),\n",
        "    nn.Linear(128, 32),\n",
        "    nn.ReLU(),\n",
        "    nn.Dropout(0.5),\n",
        "    nn.Linear(32, num_classes)\n",
        ")\n",
        "\n",
        "device = torch.device(\"cuda\" if torch.cuda.is_available() else \"cpu\")"
      ]
    },
    {
      "cell_type": "code",
      "execution_count": 46,
      "metadata": {
        "colab": {
          "base_uri": "https://localhost:8080/"
        },
        "id": "Wog4RA5P7zAg",
        "outputId": "6a9e97d0-4094-4f16-d7ce-e537785cacd9"
      },
      "outputs": [
        {
          "data": {
            "text/plain": [
              "CustomERNIEClassifier(\n",
              "  (ernie_model): ErnieModel(\n",
              "    (embeddings): ErnieEmbeddings(\n",
              "      (word_embeddings): Embedding(30522, 768, padding_idx=0)\n",
              "      (position_embeddings): Embedding(512, 768)\n",
              "      (token_type_embeddings): Embedding(4, 768)\n",
              "      (LayerNorm): LayerNorm((768,), eps=1e-05, elementwise_affine=True)\n",
              "      (dropout): Dropout(p=0.1, inplace=False)\n",
              "    )\n",
              "    (encoder): ErnieEncoder(\n",
              "      (layer): ModuleList(\n",
              "        (0-11): 12 x ErnieLayer(\n",
              "          (attention): ErnieAttention(\n",
              "            (self): ErnieSelfAttention(\n",
              "              (query): Linear(in_features=768, out_features=768, bias=True)\n",
              "              (key): Linear(in_features=768, out_features=768, bias=True)\n",
              "              (value): Linear(in_features=768, out_features=768, bias=True)\n",
              "              (dropout): Dropout(p=0.1, inplace=False)\n",
              "            )\n",
              "            (output): ErnieSelfOutput(\n",
              "              (dense): Linear(in_features=768, out_features=768, bias=True)\n",
              "              (LayerNorm): LayerNorm((768,), eps=1e-05, elementwise_affine=True)\n",
              "              (dropout): Dropout(p=0.1, inplace=False)\n",
              "            )\n",
              "          )\n",
              "          (intermediate): ErnieIntermediate(\n",
              "            (dense): Linear(in_features=768, out_features=3072, bias=True)\n",
              "            (intermediate_act_fn): GELUActivation()\n",
              "          )\n",
              "          (output): ErnieOutput(\n",
              "            (dense): Linear(in_features=3072, out_features=768, bias=True)\n",
              "            (LayerNorm): LayerNorm((768,), eps=1e-05, elementwise_affine=True)\n",
              "            (dropout): Dropout(p=0.1, inplace=False)\n",
              "          )\n",
              "        )\n",
              "      )\n",
              "    )\n",
              "    (pooler): ErniePooler(\n",
              "      (dense): Linear(in_features=768, out_features=768, bias=True)\n",
              "      (activation): Tanh()\n",
              "    )\n",
              "  )\n",
              "  (classification_head): Sequential(\n",
              "    (0): Linear(in_features=768, out_features=128, bias=True)\n",
              "    (1): ReLU()\n",
              "    (2): Dropout(p=0.5, inplace=False)\n",
              "    (3): Linear(in_features=128, out_features=32, bias=True)\n",
              "    (4): ReLU()\n",
              "    (5): Dropout(p=0.5, inplace=False)\n",
              "    (6): Linear(in_features=32, out_features=6, bias=True)\n",
              "  )\n",
              ")"
            ]
          },
          "execution_count": 46,
          "metadata": {},
          "output_type": "execute_result"
        }
      ],
      "source": [
        "# Create the custom ERNIE Classifier class\n",
        "class CustomERNIEClassifier(nn.Module):\n",
        "    def __init__(self, ernie_model, classification_head):\n",
        "        super(CustomERNIEClassifier, self).__init__()\n",
        "        self.ernie_model = ernie_model\n",
        "        self.classification_head = classification_head\n",
        "\n",
        "    def forward(self, input_ids, attention_mask):\n",
        "        outputs = self.ernie_model(input_ids, attention_mask=attention_mask)\n",
        "        pooled_output = outputs['last_hidden_state'][:, 0, :]  # use token [CLS]\n",
        "        logits = self.classification_head(pooled_output)\n",
        "        return logits\n",
        "\n",
        "# Create an instance of the custom classifier\n",
        "custom_classifier = CustomERNIEClassifier(model2, classification_head)\n",
        "custom_classifier.to(device)"
      ]
    },
    {
      "cell_type": "code",
      "execution_count": 47,
      "metadata": {
        "id": "qEonxk-d70-f"
      },
      "outputs": [],
      "source": [
        "# Freezing the ERNIE Pre-Trained Model's layers\n",
        "for param in custom_classifier.ernie_model.parameters():\n",
        "    param.requires_grad = False"
      ]
    },
    {
      "cell_type": "code",
      "execution_count": 48,
      "metadata": {
        "id": "lZS4_joE72k9"
      },
      "outputs": [],
      "source": [
        "# Preparing fr Compiling the Model\n",
        "optimizer = optim.AdamW(custom_classifier.classification_head.parameters(), lr=1e-4)\n",
        "criterion = nn.CrossEntropyLoss().to(device)"
      ]
    },
    {
      "cell_type": "code",
      "execution_count": 50,
      "metadata": {
        "id": "ekak_FA874Ti"
      },
      "outputs": [],
      "source": [
        "# Training Model\n",
        "epochs = 10\n",
        "\n",
        "for epoch in range(epochs):\n",
        "    custom_classifier.train()\n",
        "    for input_ids, masks, labels in train_dataloader:\n",
        "        input_ids, masks, labels = input_ids.to(device), masks.to(device), labels.to(device).long()\n",
        "        optimizer.zero_grad()\n",
        "        outputs = custom_classifier(input_ids, masks)\n",
        "        loss = criterion(outputs, labels)\n",
        "        loss.backward()\n",
        "        optimizer.step()"
      ]
    },
    {
      "cell_type": "code",
      "execution_count": 51,
      "metadata": {
        "colab": {
          "base_uri": "https://localhost:8080/"
        },
        "id": "ACGJoVTe7_vH",
        "outputId": "cbb90c53-be22-4688-ba14-af529e291417"
      },
      "outputs": [
        {
          "data": {
            "text/plain": [
              "CustomERNIEClassifier(\n",
              "  (ernie_model): ErnieModel(\n",
              "    (embeddings): ErnieEmbeddings(\n",
              "      (word_embeddings): Embedding(30522, 768, padding_idx=0)\n",
              "      (position_embeddings): Embedding(512, 768)\n",
              "      (token_type_embeddings): Embedding(4, 768)\n",
              "      (LayerNorm): LayerNorm((768,), eps=1e-05, elementwise_affine=True)\n",
              "      (dropout): Dropout(p=0.1, inplace=False)\n",
              "    )\n",
              "    (encoder): ErnieEncoder(\n",
              "      (layer): ModuleList(\n",
              "        (0-11): 12 x ErnieLayer(\n",
              "          (attention): ErnieAttention(\n",
              "            (self): ErnieSelfAttention(\n",
              "              (query): Linear(in_features=768, out_features=768, bias=True)\n",
              "              (key): Linear(in_features=768, out_features=768, bias=True)\n",
              "              (value): Linear(in_features=768, out_features=768, bias=True)\n",
              "              (dropout): Dropout(p=0.1, inplace=False)\n",
              "            )\n",
              "            (output): ErnieSelfOutput(\n",
              "              (dense): Linear(in_features=768, out_features=768, bias=True)\n",
              "              (LayerNorm): LayerNorm((768,), eps=1e-05, elementwise_affine=True)\n",
              "              (dropout): Dropout(p=0.1, inplace=False)\n",
              "            )\n",
              "          )\n",
              "          (intermediate): ErnieIntermediate(\n",
              "            (dense): Linear(in_features=768, out_features=3072, bias=True)\n",
              "            (intermediate_act_fn): GELUActivation()\n",
              "          )\n",
              "          (output): ErnieOutput(\n",
              "            (dense): Linear(in_features=3072, out_features=768, bias=True)\n",
              "            (LayerNorm): LayerNorm((768,), eps=1e-05, elementwise_affine=True)\n",
              "            (dropout): Dropout(p=0.1, inplace=False)\n",
              "          )\n",
              "        )\n",
              "      )\n",
              "    )\n",
              "    (pooler): ErniePooler(\n",
              "      (dense): Linear(in_features=768, out_features=768, bias=True)\n",
              "      (activation): Tanh()\n",
              "    )\n",
              "  )\n",
              "  (classification_head): Sequential(\n",
              "    (0): Linear(in_features=768, out_features=128, bias=True)\n",
              "    (1): ReLU()\n",
              "    (2): Dropout(p=0.5, inplace=False)\n",
              "    (3): Linear(in_features=128, out_features=32, bias=True)\n",
              "    (4): ReLU()\n",
              "    (5): Dropout(p=0.5, inplace=False)\n",
              "    (6): Linear(in_features=32, out_features=6, bias=True)\n",
              "  )\n",
              ")"
            ]
          },
          "execution_count": 51,
          "metadata": {},
          "output_type": "execute_result"
        }
      ],
      "source": [
        "# Evaluate Model (summary)\n",
        "custom_classifier.eval()"
      ]
    },
    {
      "cell_type": "code",
      "execution_count": 52,
      "metadata": {
        "id": "wGD2bQNN8CIP"
      },
      "outputs": [],
      "source": [
        "# Predict model's result\n",
        "pred = []\n",
        "true = []\n",
        "\n",
        "with torch.no_grad():\n",
        "    for input_ids, masks, labels in test_dataloader:\n",
        "        input_ids, masks, labels = input_ids.to(device), masks.to(device), labels.to(device)\n",
        "        outputs = custom_classifier(input_ids, masks)\n",
        "        predictions = torch.argmax(outputs, dim=1)\n",
        "        pred.extend(predictions.cpu().numpy())\n",
        "        true.extend(labels.cpu().numpy())"
      ]
    },
    {
      "cell_type": "code",
      "execution_count": 53,
      "metadata": {
        "id": "-Fzhyd7EXps5"
      },
      "outputs": [
        {
          "name": "stdout",
          "output_type": "stream",
          "text": [
            "--- Model Performance ---\n",
            "Accuracy: 0.504\n",
            "Precision: 0.369\n",
            "Recall: 0.504\n",
            "F1 Score: 0.416\n"
          ]
        },
        {
          "name": "stderr",
          "output_type": "stream",
          "text": [
            "c:\\Users\\Ruben\\anaconda3\\lib\\site-packages\\sklearn\\metrics\\_classification.py:1531: UndefinedMetricWarning: Precision is ill-defined and being set to 0.0 in labels with no predicted samples. Use `zero_division` parameter to control this behavior.\n",
            "  _warn_prf(average, modifier, f\"{metric.capitalize()} is\", len(result))\n"
          ]
        }
      ],
      "source": [
        "# Evaluate model's metrics\n",
        "accuracy = accuracy_score(true, pred)\n",
        "precision, recall, f1, _ = precision_recall_fscore_support(true, pred, average='weighted')\n",
        "\n",
        "print(\"--- Model Performance ---\")\n",
        "print(f\"Accuracy: {accuracy:.3f}\")\n",
        "print(f\"Precision: {precision:.3f}\")\n",
        "print(f\"Recall: {recall:.3f}\")\n",
        "print(f\"F1 Score: {f1:.3f}\")"
      ]
    }
  ],
  "metadata": {
    "accelerator": "GPU",
    "colab": {
      "gpuType": "T4",
      "provenance": []
    },
    "kernelspec": {
      "display_name": "base",
      "language": "python",
      "name": "python3"
    },
    "language_info": {
      "codemirror_mode": {
        "name": "ipython",
        "version": 3
      },
      "file_extension": ".py",
      "mimetype": "text/x-python",
      "name": "python",
      "nbconvert_exporter": "python",
      "pygments_lexer": "ipython3",
      "version": "3.9.20"
    }
  },
  "nbformat": 4,
  "nbformat_minor": 0
}
